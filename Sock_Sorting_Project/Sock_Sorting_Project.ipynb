{
 "cells": [
  {
   "cell_type": "code",
   "execution_count": 159,
   "metadata": {
    "collapsed": false
   },
   "outputs": [
    {
     "data": {
      "text/plain": [
       "[('black', 'plain'),\n",
       " ('black', 'plain'),\n",
       " ('black', 'plain'),\n",
       " ('black', 'plain'),\n",
       " ('black', 'striped'),\n",
       " ('black', 'striped'),\n",
       " ('black', 'striped'),\n",
       " ('black', 'striped'),\n",
       " ('black', 'striped'),\n",
       " ('blue', 'plain'),\n",
       " ('blue', 'plain'),\n",
       " ('blue', 'plain'),\n",
       " ('blue', 'striped'),\n",
       " ('blue', 'striped'),\n",
       " ('blue', 'striped'),\n",
       " ('blue', 'striped'),\n",
       " ('green', 'plain'),\n",
       " ('green', 'plain'),\n",
       " ('green', 'plain'),\n",
       " ('green', 'plain'),\n",
       " ('green', 'striped'),\n",
       " ('green', 'striped'),\n",
       " ('green', 'striped'),\n",
       " ('red', 'plain'),\n",
       " ('red', 'plain'),\n",
       " ('red', 'plain'),\n",
       " ('red', 'striped'),\n",
       " ('white', 'plain'),\n",
       " ('white', 'plain'),\n",
       " ('white', 'plain'),\n",
       " ('white', 'striped'),\n",
       " ('white', 'striped')]"
      ]
     },
     "execution_count": 159,
     "metadata": {},
     "output_type": "execute_result"
    }
   ],
   "source": [
    "# Generate a random list of different socks and pair them\n",
    "# Try with 4 pairs, 8 pairs, and 16 pairs.\n",
    "\n",
    "# They should first appear on screen in the original disordered matrix\n",
    "\n",
    "# Then they will be sorted shown in an ordered matrix\n",
    "\n",
    "import numpy as np\n",
    "import random\n",
    "\n",
    "random.seed()\n",
    "\n",
    "num_sock_pairs = 32\n",
    "num_socks = num_sock_pairs*2\n",
    "\n",
    "color_options = ['white', 'black', 'red','blue','green']\n",
    "style_options = ['plain', 'striped']\n",
    "\n",
    "#Generate the random sock list with different colors and styles\n",
    "\n",
    "#Initiate the color and style lists\n",
    "color_list = list()\n",
    "style_list = list()\n",
    "\n",
    "#Populate the list with random color and styles for each pair of socks\n",
    "for i in range(num_sock_pairs):\n",
    "    color_list.append(random.choice(color_options))\n",
    "    style_list.append(random.choice(style_options))\n",
    "\n",
    "#Add duplicates of each pair of socks to generate the list of individual matching socks    \n",
    "color_list.extend(color_list)\n",
    "style_list.extend(style_list)\n",
    "zipped_list = zip(color_list,style_list)\n",
    "\n",
    "#Shuffle the socks randomly\n",
    "random.shuffle(zipped_list)\n",
    "\n",
    "#Redefine the list of sock colors and styles that are now randomly ordered\n",
    "color_list,style_list =zip(*zipped_list)\n",
    "\n",
    "#Sort the socks to form a list of pairs\n",
    "sock_pair_list = list()\n",
    "zipped_list.sort()\n",
    "\n",
    "for i in range(num_sock_pairs):\n",
    "    sock_pair_list.append(zipped_list[i*2])\n",
    "    #sock_pair_list.append(v[0][0])\n",
    "sock_pair_list\n"
   ]
  },
  {
   "cell_type": "code",
   "execution_count": 129,
   "metadata": {
    "collapsed": false
   },
   "outputs": [
    {
     "data": {
      "text/plain": [
       "[('black', 'plain'),\n",
       " ('black', 'plain'),\n",
       " ('black', 'plain'),\n",
       " ('black', 'plain'),\n",
       " ('black', 'striped'),\n",
       " ('black', 'striped'),\n",
       " ('blue', 'plain'),\n",
       " ('blue', 'plain'),\n",
       " ('blue', 'plain'),\n",
       " ('blue', 'plain'),\n",
       " ('blue', 'striped'),\n",
       " ('blue', 'striped'),\n",
       " ('blue', 'striped'),\n",
       " ('green', 'plain'),\n",
       " ('green', 'plain'),\n",
       " ('green', 'plain'),\n",
       " ('green', 'plain'),\n",
       " ('green', 'striped'),\n",
       " ('green', 'striped'),\n",
       " ('green', 'striped'),\n",
       " ('green', 'striped'),\n",
       " ('red', 'plain'),\n",
       " ('red', 'plain'),\n",
       " ('red', 'striped'),\n",
       " ('red', 'striped'),\n",
       " ('white', 'plain'),\n",
       " ('white', 'plain'),\n",
       " ('white', 'plain'),\n",
       " ('white', 'plain'),\n",
       " ('white', 'striped'),\n",
       " ('white', 'striped'),\n",
       " ('white', 'striped')]"
      ]
     },
     "execution_count": 129,
     "metadata": {},
     "output_type": "execute_result"
    }
   ],
   "source": [
    "sock_pair_list"
   ]
  },
  {
   "cell_type": "code",
   "execution_count": 130,
   "metadata": {
    "collapsed": false
   },
   "outputs": [
    {
     "data": {
      "text/plain": [
       "[('black', 'plain'),\n",
       " ('black', 'plain'),\n",
       " ('black', 'plain'),\n",
       " ('black', 'plain'),\n",
       " ('black', 'plain'),\n",
       " ('black', 'plain'),\n",
       " ('black', 'plain'),\n",
       " ('black', 'plain'),\n",
       " ('black', 'striped'),\n",
       " ('black', 'striped'),\n",
       " ('black', 'striped'),\n",
       " ('black', 'striped'),\n",
       " ('blue', 'plain'),\n",
       " ('blue', 'plain'),\n",
       " ('blue', 'plain'),\n",
       " ('blue', 'plain'),\n",
       " ('blue', 'plain'),\n",
       " ('blue', 'plain'),\n",
       " ('blue', 'plain'),\n",
       " ('blue', 'plain'),\n",
       " ('blue', 'striped'),\n",
       " ('blue', 'striped'),\n",
       " ('blue', 'striped'),\n",
       " ('blue', 'striped'),\n",
       " ('blue', 'striped'),\n",
       " ('blue', 'striped'),\n",
       " ('green', 'plain'),\n",
       " ('green', 'plain'),\n",
       " ('green', 'plain'),\n",
       " ('green', 'plain'),\n",
       " ('green', 'plain'),\n",
       " ('green', 'plain'),\n",
       " ('green', 'plain'),\n",
       " ('green', 'plain'),\n",
       " ('green', 'striped'),\n",
       " ('green', 'striped'),\n",
       " ('green', 'striped'),\n",
       " ('green', 'striped'),\n",
       " ('green', 'striped'),\n",
       " ('green', 'striped'),\n",
       " ('green', 'striped'),\n",
       " ('green', 'striped'),\n",
       " ('red', 'plain'),\n",
       " ('red', 'plain'),\n",
       " ('red', 'plain'),\n",
       " ('red', 'plain'),\n",
       " ('red', 'striped'),\n",
       " ('red', 'striped'),\n",
       " ('red', 'striped'),\n",
       " ('red', 'striped'),\n",
       " ('white', 'plain'),\n",
       " ('white', 'plain'),\n",
       " ('white', 'plain'),\n",
       " ('white', 'plain'),\n",
       " ('white', 'plain'),\n",
       " ('white', 'plain'),\n",
       " ('white', 'plain'),\n",
       " ('white', 'plain'),\n",
       " ('white', 'striped'),\n",
       " ('white', 'striped'),\n",
       " ('white', 'striped'),\n",
       " ('white', 'striped'),\n",
       " ('white', 'striped'),\n",
       " ('white', 'striped')]"
      ]
     },
     "execution_count": 130,
     "metadata": {},
     "output_type": "execute_result"
    }
   ],
   "source": [
    "zipped_list"
   ]
  }
 ],
 "metadata": {
  "kernelspec": {
   "display_name": "Python [conda env:Anaconda2]",
   "language": "python",
   "name": "conda-env-Anaconda2-py"
  },
  "language_info": {
   "codemirror_mode": {
    "name": "ipython",
    "version": 2
   },
   "file_extension": ".py",
   "mimetype": "text/x-python",
   "name": "python",
   "nbconvert_exporter": "python",
   "pygments_lexer": "ipython2",
   "version": "2.7.13"
  }
 },
 "nbformat": 4,
 "nbformat_minor": 0
}
